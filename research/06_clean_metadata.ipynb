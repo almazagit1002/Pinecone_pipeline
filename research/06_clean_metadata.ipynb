{
 "cells": [
  {
   "cell_type": "code",
   "execution_count": 1,
   "metadata": {},
   "outputs": [],
   "source": [
    "import os"
   ]
  },
  {
   "cell_type": "code",
   "execution_count": 2,
   "metadata": {},
   "outputs": [],
   "source": [
    "os.chdir(\"../\")"
   ]
  },
  {
   "cell_type": "code",
   "execution_count": 3,
   "metadata": {},
   "outputs": [
    {
     "data": {
      "text/plain": [
       "'c:\\\\Users\\\\Maza\\\\Desktop\\\\Pinecone_pipeline'"
      ]
     },
     "execution_count": 3,
     "metadata": {},
     "output_type": "execute_result"
    }
   ],
   "source": [
    "%pwd"
   ]
  },
  {
   "cell_type": "code",
   "execution_count": 4,
   "metadata": {},
   "outputs": [],
   "source": [
    "from dataclasses import dataclass\n",
    "from pathlib import Path\n",
    "\n",
    "@dataclass(frozen=True)\n",
    "class EditSummaryConfig:\n",
    "    \"\"\"\n",
    "    Configuration class for editing JSON summaries.\n",
    "\n",
    "    This class holds the configuration settings required for reading and saving\n",
    "    JSON summaries.\n",
    "\n",
    "    Attributes:\n",
    "        read_json_summary (Path): Path to the JSON summary file that needs to be read.\n",
    "        load_edited_summary (Path): Path where the edited JSON summary should be saved.\n",
    "    \"\"\"\n",
    "\n",
    "    read_json_summary: Path\n",
    "    load_edited_summary: Path\n",
    "\n"
   ]
  },
  {
   "cell_type": "code",
   "execution_count": 5,
   "metadata": {},
   "outputs": [],
   "source": [
    "from vector_db_pipeline.utils.common import load_json, read_yaml, create_directories,save_json\n",
    "from pathlib import Path\n",
    "from vector_db_pipeline.constants import *\n",
    "from vector_db_pipeline import logger"
   ]
  },
  {
   "cell_type": "code",
   "execution_count": 6,
   "metadata": {},
   "outputs": [],
   "source": [
    "class ConfigurationManager:\n",
    "    def __init__(\n",
    "        self,\n",
    "        config_filepath = CONFIG_FILE_PATH,\n",
    "        schema_filepath = SCHEMA_FILE_PATH,\n",
    "        params_filepath = PARAMS_FILE_PATH,\n",
    "        models_filepath = MODELS_FILE_PATH,\n",
    "        prompt_template = PROMPT_FILE_PATH):\n",
    "        self.config = read_yaml(config_filepath)\n",
    "        self.schema = read_yaml(schema_filepath)\n",
    "        self.params = read_yaml(params_filepath)\n",
    "        self.models = read_yaml(models_filepath)\n",
    "        self.prompt_template = read_yaml(prompt_template)\n",
    "    \n",
    "        \n",
    "\n",
    "    \n",
    "    def get_edit_summary_config(self) -> EditSummaryConfig:\n",
    "        \"\"\"\n",
    "        Create and return an EditSummaryConfig object based on the current configuration.\n",
    "\n",
    "        This function retrieves the configuration related to the edited JSON summary, \n",
    "        creates an EditSummaryConfig object with the relevant settings, and returns it.\n",
    "\n",
    "        Returns:\n",
    "            EditSummaryConfig: The configuration object for editing the JSON summary.\n",
    "        \"\"\"\n",
    "       \n",
    "        config = self.config.edited_json_summary\n",
    "        edit_summary_config = EditSummaryConfig(\n",
    "            read_json_summary=config.read_json_summary,\n",
    "            load_edited_summary = config.load_edited_summary\n",
    "        \n",
    "        ) \n",
    "\n",
    "        return edit_summary_config"
   ]
  },
  {
   "cell_type": "code",
   "execution_count": 7,
   "metadata": {},
   "outputs": [],
   "source": [
    "class EditSummary:\n",
    "    def __init__(self, config: EditSummaryConfig):\n",
    "        \"\"\"\n",
    "        Initialize the EditSummary class with a configuration object.\n",
    "\n",
    "        Args:\n",
    "            config (EditSummaryConfig): Configuration object containing paths for reading and saving JSON summaries.\n",
    "        \"\"\"\n",
    "        self.config = config\n",
    "\n",
    "    def clean_json_summary(self):\n",
    "        \"\"\"\n",
    "        Read a JSON summary file, filter out entries with empty values, and save the edited summary.\n",
    "\n",
    "        This function performs the following steps:\n",
    "        1. Load the JSON summary from the path specified in the configuration.\n",
    "        2. Filter out entries in each file's summary that have empty values.\n",
    "        3. Save the edited summary to the path specified in the configuration.\n",
    "\n",
    "        The resulting edited summary contains only the non-empty entries from the original summary.\n",
    "        \"\"\"\n",
    "\n",
    "        summary = load_json(Path(self.config.read_json_summary))\n",
    "        \n",
    "        # Create an edited summary by filtering out entries with empty values\n",
    "        try:\n",
    "            \n",
    "            edited_summary = {file: {key: value for key, value in contents.items() if value}\n",
    "                            for file, contents in summary.items()}\n",
    "            logger.info(f\"Empty values filtered out\")\n",
    "        except Exception as e:\n",
    "            logger.error(f\"Error filtering out entries with empty values: {e}\")\n",
    "      \n",
    "        \n",
    "   \n",
    "        save_json(Path(self.config.load_edited_summary), edited_summary)\n",
    "\n",
    "\n",
    "\n",
    "            \n",
    "    "
   ]
  },
  {
   "cell_type": "code",
   "execution_count": 8,
   "metadata": {},
   "outputs": [],
   "source": [
    "import time"
   ]
  },
  {
   "cell_type": "code",
   "execution_count": 9,
   "metadata": {},
   "outputs": [
    {
     "name": "stdout",
     "output_type": "stream",
     "text": [
      "[2024-05-24 16:06:52,890: INFO: common: yaml file: config\\config.yaml loaded successfully:]\n",
      "[2024-05-24 16:06:52,901: INFO: common: yaml file: schema.yaml loaded successfully:]\n",
      "[2024-05-24 16:06:52,911: INFO: common: yaml file: params.yaml loaded successfully:]\n"
     ]
    },
    {
     "name": "stdout",
     "output_type": "stream",
     "text": [
      "[2024-05-24 16:06:52,922: INFO: common: yaml file: models.yaml loaded successfully:]\n",
      "[2024-05-24 16:06:52,937: INFO: common: yaml file: prompt_template.yaml loaded successfully:]\n",
      "[2024-05-24 16:06:52,949: INFO: common: json file loaded succesfully from: artifacts\\json_summary\\json_summary.json:]\n",
      "[2024-05-24 16:06:52,952: INFO: 2176072198: Empty values filtered out:]\n",
      "[2024-05-24 16:06:52,956: INFO: common: json file saved at: artifacts\\json_summary\\json_summary_edited.json:]\n",
      "[2024-05-24 16:06:52,958: INFO: 3292707835: Editing summary latency: 0.0836 seconds:]\n"
     ]
    }
   ],
   "source": [
    "start = time.time()\n",
    "config = ConfigurationManager()\n",
    "edit_summary_config = config.get_edit_summary_config()\n",
    "edit_summary= EditSummary(edit_summary_config)\n",
    "json_summary = edit_summary.clean_json_summary()\n",
    "logger.info(f\"Editing summary latency: {(time.time() - start):.4f} seconds\")"
   ]
  },
  {
   "cell_type": "code",
   "execution_count": null,
   "metadata": {},
   "outputs": [],
   "source": []
  }
 ],
 "metadata": {
  "kernelspec": {
   "display_name": "venv",
   "language": "python",
   "name": "python3"
  },
  "language_info": {
   "codemirror_mode": {
    "name": "ipython",
    "version": 3
   },
   "file_extension": ".py",
   "mimetype": "text/x-python",
   "name": "python",
   "nbconvert_exporter": "python",
   "pygments_lexer": "ipython3",
   "version": "3.11.9"
  }
 },
 "nbformat": 4,
 "nbformat_minor": 2
}
