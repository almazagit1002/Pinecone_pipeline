{
 "cells": [
  {
   "cell_type": "code",
   "execution_count": 1,
   "metadata": {},
   "outputs": [],
   "source": [
    "import os"
   ]
  },
  {
   "cell_type": "code",
   "execution_count": 2,
   "metadata": {},
   "outputs": [
    {
     "data": {
      "text/plain": [
       "'c:\\\\Users\\\\Maza\\\\Desktop\\\\vector_db_pipeline\\\\research'"
      ]
     },
     "execution_count": 2,
     "metadata": {},
     "output_type": "execute_result"
    }
   ],
   "source": [
    "%pwd"
   ]
  },
  {
   "cell_type": "code",
   "execution_count": 3,
   "metadata": {},
   "outputs": [],
   "source": [
    "os.chdir(\"../\")"
   ]
  },
  {
   "cell_type": "code",
   "execution_count": 14,
   "metadata": {},
   "outputs": [],
   "source": [
    "from dataclasses import dataclass\n",
    "from pathlib import Path\n",
    "\n",
    "\n",
    "@dataclass(frozen=True)\n",
    "class DataValidationConfig:\n",
    "    root_dir: Path\n",
    "    read_data_dir: Path\n",
    "    STATUS_FILE: str\n",
    "    SCHEMA: dict\n",
    "\n"
   ]
  },
  {
   "cell_type": "code",
   "execution_count": 15,
   "metadata": {},
   "outputs": [],
   "source": [
    "from vector_db_pipeline.constants import *\n",
    "from vector_db_pipeline.utils.common import read_yaml, create_directories\n",
    "from vector_db_pipeline import logger\n",
    "import pandas as pd"
   ]
  },
  {
   "cell_type": "code",
   "execution_count": 17,
   "metadata": {},
   "outputs": [
    {
     "name": "stdout",
     "output_type": "stream",
     "text": [
      "[2024-04-08 12:57:13,393: INFO: common: yaml file: config\\config.yaml loaded successfully:]\n",
      "[2024-04-08 12:57:13,395: INFO: common: yaml file: schema.yaml loaded successfully:]\n",
      "[2024-04-08 12:57:13,397: INFO: common: Directory already exists: artifacts/data_validation:]\n"
     ]
    }
   ],
   "source": [
    "class ConfigurationManager:\n",
    "    def __init__(\n",
    "        self,\n",
    "        config_filepath = CONFIG_FILE_PATH,\n",
    "        schema_filepath = SCHEMA_FILE_PATH,\n",
    "        params_filepath = PARAMS_FILE_PATH):\n",
    "        self.config = read_yaml(config_filepath)\n",
    "        self.schema = read_yaml(schema_filepath)\n",
    "        \n",
    "\n",
    "    \n",
    "    def get_data_validation_config(self) -> DataValidationConfig:\n",
    "        config = self.config.data_validation\n",
    "        schema = self.schema.COLUMNS\n",
    "\n",
    "        create_directories([config.root_dir])\n",
    "\n",
    "        data_validation_config = DataValidationConfig(\n",
    "            root_dir=config.root_dir,\n",
    "            read_data_dir=config.read_data_dir,\n",
    "            STATUS_FILE=config.STATUS_FILE,\n",
    "            SCHEMA=schema\n",
    "        )\n",
    "\n",
    "        return data_validation_config\n",
    "    \n",
    "config = ConfigurationManager()\n",
    "TEST = config.get_data_validation_config()"
   ]
  },
  {
   "cell_type": "code",
   "execution_count": 18,
   "metadata": {},
   "outputs": [],
   "source": [
    "import os\n",
    "from vector_db_pipeline import logger\n",
    "import pandas as pd"
   ]
  },
  {
   "cell_type": "code",
   "execution_count": 59,
   "metadata": {},
   "outputs": [],
   "source": [
    "class DataValiadtion:\n",
    "    def __init__(self, config: DataValidationConfig):\n",
    "        self.config = config\n",
    "\n",
    "\n",
    "    def validate_all_columns(self)-> bool:\n",
    "        try:\n",
    "            validation_status = None\n",
    "\n",
    "            data = pd.read_csv(self.config.read_data_dir)\n",
    "            all_cols = list(data.columns)\n",
    "            \n",
    "\n",
    "            all_schema = self.config.SCHEMA\n",
    "            all_schema['id'] = 'str'\n",
    "            all_schema['values'] = 'list'\n",
    "            print(all_schema)\n",
    "            print(all_cols)\n",
    "\n",
    "            \n",
    "            for col in all_cols:\n",
    "                if col not in all_schema.keys():\n",
    "                    validation_status = False\n",
    "                    with open(self.config.STATUS_FILE, 'a') as f:\n",
    "                        f.write(f\"All columns present in data: {validation_status}\\n\")\n",
    "                else:\n",
    "                    validation_status = True\n",
    "                    with open(self.config.STATUS_FILE, 'a') as f:\n",
    "                        f.write(f\"All columns present in data: {validation_status}\\n\")\n",
    "\n",
    "            return logger.info(f\"All columns present in data: {validation_status}\")\n",
    "        \n",
    "        except Exception as e:\n",
    "            raise e\n",
    "        \n",
    "    def validate_unique_index(self)-> bool:\n",
    "        try:\n",
    "            data = pd.read_csv(self.config.read_data_dir)\n",
    "            unique_id = len(data.id.unique()) == len(data)\n",
    "            if unique_id:\n",
    "             \n",
    "                with open(self.config.STATUS_FILE, 'a') as f:\n",
    "                    f.write(f\"Unique ids : {unique_id}\\n\")\n",
    "            else:\n",
    "               \n",
    "                with open(self.config.STATUS_FILE, 'a') as f:\n",
    "                    f.write(f\"Unique ids : {unique_id}\\n\")\n",
    "            return logger.info(f\"Unique ids : {unique_id}\")\n",
    "        \n",
    "        except Exception as e:\n",
    "            raise e\n",
    "\n"
   ]
  },
  {
   "cell_type": "code",
   "execution_count": 60,
   "metadata": {},
   "outputs": [
    {
     "name": "stdout",
     "output_type": "stream",
     "text": [
      "[2024-04-08 13:24:11,724: INFO: common: yaml file: config\\config.yaml loaded successfully:]\n",
      "[2024-04-08 13:24:11,727: INFO: common: yaml file: schema.yaml loaded successfully:]\n",
      "[2024-04-08 13:24:11,730: INFO: common: Directory already exists: artifacts/data_validation:]\n",
      "{'date_scraped_timestamp': 'int', 'host': 'str', 'page_title': 'str', 'text': 'str', 'url': 'str', 'id': 'str', 'values': 'list'}\n",
      "['id', 'values', 'text', 'host', 'page_title', 'url']\n",
      "[2024-04-08 13:24:13,909: INFO: 3017753284: All columns present in data: True:]\n",
      "[2024-04-08 13:24:16,053: INFO: 3017753284: Unique ids : True:]\n"
     ]
    }
   ],
   "source": [
    "try:\n",
    "    config = ConfigurationManager()\n",
    "    data_validation_config = config.get_data_validation_config()\n",
    "    data_validation = DataValiadtion(config=data_validation_config)\n",
    "    data_validation.validate_all_columns()\n",
    "    data_validation.validate_unique_index()\n",
    "except Exception as e:\n",
    "    raise e"
   ]
  }
 ],
 "metadata": {
  "kernelspec": {
   "display_name": "venv",
   "language": "python",
   "name": "python3"
  },
  "language_info": {
   "codemirror_mode": {
    "name": "ipython",
    "version": 3
   },
   "file_extension": ".py",
   "mimetype": "text/x-python",
   "name": "python",
   "nbconvert_exporter": "python",
   "pygments_lexer": "ipython3",
   "version": "3.11.9"
  }
 },
 "nbformat": 4,
 "nbformat_minor": 2
}
