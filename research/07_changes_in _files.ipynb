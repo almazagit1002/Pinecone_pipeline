{
 "cells": [
  {
   "cell_type": "code",
   "execution_count": 2,
   "metadata": {},
   "outputs": [],
   "source": [
    "import os"
   ]
  },
  {
   "cell_type": "code",
   "execution_count": 3,
   "metadata": {},
   "outputs": [],
   "source": [
    "os.chdir(\"../\")"
   ]
  },
  {
   "cell_type": "code",
   "execution_count": 4,
   "metadata": {},
   "outputs": [
    {
     "data": {
      "text/plain": [
       "'c:\\\\Users\\\\Maza\\\\Desktop\\\\Pinecone_pipeline'"
      ]
     },
     "execution_count": 4,
     "metadata": {},
     "output_type": "execute_result"
    }
   ],
   "source": [
    "%pwd"
   ]
  },
  {
   "cell_type": "code",
   "execution_count": 5,
   "metadata": {},
   "outputs": [],
   "source": [
    "from dataclasses import dataclass\n",
    "from pathlib import Path\n",
    "\n",
    "@dataclass(frozen=True)\n",
    "class ConfigFileChanges:\n",
    "    \"\"\"\n",
    "    \n",
    "\n",
    "    Attributes:\n",
    "        \n",
    "    \"\"\"\n",
    "\n",
    "    dir_to_monitor: Path\n",
    "    state_file: Path\n",
    "    updated_files: Path\n",
    "\n"
   ]
  },
  {
   "cell_type": "code",
   "execution_count": 6,
   "metadata": {},
   "outputs": [],
   "source": [
    "from vector_db_pipeline.constants import * \n",
    "from vector_db_pipeline.utils.common import read_yaml, create_directories, save_json, read_txt_to_list\n",
    "from vector_db_pipeline import logger"
   ]
  },
  {
   "cell_type": "code",
   "execution_count": 7,
   "metadata": {},
   "outputs": [],
   "source": [
    "class ConfigurationManager:\n",
    "    def __init__(\n",
    "        self,\n",
    "        config_filepath=CONFIG_FILE_PATH,\n",
    "        schema_filepath=SCHEMA_FILE_PATH,\n",
    "        params_filepath=PARAMS_FILE_PATH):\n",
    "        \"\"\"\n",
    "        Initializes ConfigurationManager with provided filepaths.\n",
    "\n",
    "        Args:\n",
    "            config_filepath (str): Filepath to configuration file. Defaults to CONFIG_FILE_PATH.\n",
    "            schema_filepath (str): Filepath to schema file. Defaults to SCHEMA_FILE_PATH.\n",
    "            params_filepath (str): Filepath to parameters file. Defaults to PARAMS_FILE_PATH.\n",
    "        \"\"\"\n",
    "        self.config = read_yaml(config_filepath)\n",
    "        self.schema = read_yaml(schema_filepath)\n",
    "        self.params = read_yaml(params_filepath)\n",
    "\n",
    "    \n",
    "    def get_file_changes_config(self) -> ConfigFileChanges:\n",
    "        \"\"\"\n",
    "       \n",
    "\n",
    "        Returns:\n",
    "           \n",
    "        \"\"\"\n",
    "        config = self.config.file_changes\n",
    "       \n",
    "        create_directories([config.state_root])\n",
    "\n",
    "        file_changes_config = ConfigFileChanges(\n",
    "            dir_to_monitor = config.dir_to_monitor,\n",
    "            state_file = config.state_file,\n",
    "            updated_files = config.updated_files\n",
    "        )\n",
    "\n",
    "        return file_changes_config\n",
    "\n",
    "    \n"
   ]
  },
  {
   "cell_type": "code",
   "execution_count": 8,
   "metadata": {},
   "outputs": [],
   "source": [
    "import os\n",
    "import json\n",
    "import time\n",
    "from hashlib import md5\n",
    "from pathlib import Path\n",
    "\n"
   ]
  },
  {
   "cell_type": "code",
   "execution_count": 37,
   "metadata": {},
   "outputs": [],
   "source": [
    "exclusions = read_txt_to_list(Path('artifacts/app_schema/ignored_files.txt'))\n",
    "\n",
    "exclusions = set([str(os.path.normpath(path)) for path in exclusions])\n",
    "\n",
    "def should_exclude(path):\n",
    "    # Check if the path matches any of the exclusion patterns\n",
    "    for exclusion in exclusions:\n",
    "        if exclusion in path:\n",
    "            return True\n",
    "        if path.endswith(exclusion):\n",
    "            return True\n",
    "    return False\n",
    "\n",
    "def list_files(directory):\n",
    "    result = []\n",
    "    for root, dirs, files in os.walk(directory):\n",
    "        # Exclude directories from the list\n",
    "        dirs[:] = [d for d in dirs if not should_exclude(os.path.join(root, d))]\n",
    "        for file in files:\n",
    "            file_path = os.path.join(root, file)\n",
    "            if not should_exclude(file_path):\n",
    "                result.append(file_path)\n",
    "    return result"
   ]
  },
  {
   "cell_type": "code",
   "execution_count": 42,
   "metadata": {},
   "outputs": [],
   "source": [
    "\n",
    "class FilesState:\n",
    "    def __init__(self, config:ConfigFileChanges):\n",
    "        self.config = config\n",
    "        self.dir_to_monitor = config.dir_to_monitor\n",
    "        self.state_file = config.state_file\n",
    "\n",
    "\n",
    "    @staticmethod\n",
    "    def get_file_md5(file_path):\n",
    "        \"\"\"Compute MD5 hash of the file.\"\"\"\n",
    "        hasher = md5()\n",
    "        with open(file_path, 'rb') as f:\n",
    "            buf = f.read()\n",
    "            hasher.update(buf)\n",
    "        return hasher.hexdigest()\n",
    "\n",
    "\n",
    "    def save_directory_state(self):\n",
    "        \"\"\"Save the current state of the directory to a file.\"\"\"\n",
    "        current_state = {}\n",
    "        filtered_files = list_files(self.dir_to_monitor)\n",
    "        # for root, _, files in os.walk(self.dir_to_monitor):\n",
    "        for file in filtered_files:\n",
    "            # file_path = os.path.join(root, file)\n",
    "            current_state[file] = self.get_file_md5(file)\n",
    "        with open(self.state_file, 'w') as f:\n",
    "            json.dump(current_state, f, indent=4)\n",
    "\n",
    "    @staticmethod\n",
    "    def load_directory_state(state_file):\n",
    "        \"\"\"Load the directory state from a file.\"\"\"\n",
    "        if not os.path.exists(state_file):\n",
    "            return {}\n",
    "        with open(state_file, 'r') as f:\n",
    "            return json.load(f)\n",
    "\n",
    "\n",
    "    def compare_states(self,old_state, new_state):\n",
    "        \"\"\"Compare the old and new directory states and classify changes.\"\"\"\n",
    "        old_files = set(old_state.keys())\n",
    "        new_files = set(new_state.keys())\n",
    "\n",
    "        added_files = new_files - old_files\n",
    "        deleted_files = old_files - new_files\n",
    "        common_files = old_files & new_files\n",
    "\n",
    "        changed_files = {\n",
    "            file for file in common_files if old_state[file] != new_state[file]\n",
    "        }\n",
    "        \n",
    "\n",
    "        changes = {\n",
    "            'added_files': list(added_files),\n",
    "            'deleted_files': list(deleted_files),\n",
    "            'changed_files': list(changed_files),\n",
    "        }\n",
    "\n",
    "        with open(self.config.updated_files, 'w') as f:\n",
    "            json.dump(changes, f, indent=4)\n",
    "\n",
    "       \n",
    "\n",
    "    def monitor_directory(self):\n",
    "        \"\"\"Monitor the directory and report changes.\"\"\"\n",
    "        old_state = self.load_directory_state(self.state_file)\n",
    "        new_state = {}\n",
    "        filtered_files = list_files(self.dir_to_monitor)\n",
    "        for file in filtered_files:\n",
    "            new_state[file] = self.get_file_md5(file)\n",
    "    \n",
    " \n",
    "\n",
    "        self.compare_states(old_state, new_state)\n",
    "        self.save_directory_state()\n",
    "\n",
    "\n",
    "\n"
   ]
  },
  {
   "cell_type": "code",
   "execution_count": 43,
   "metadata": {},
   "outputs": [],
   "source": [
    "import time"
   ]
  },
  {
   "cell_type": "code",
   "execution_count": 48,
   "metadata": {},
   "outputs": [
    {
     "name": "stdout",
     "output_type": "stream",
     "text": [
      "[2024-05-24 16:54:21,661: INFO: common: yaml file: config\\config.yaml loaded successfully:]\n",
      "[2024-05-24 16:54:21,663: INFO: common: yaml file: schema.yaml loaded successfully:]\n",
      "[2024-05-24 16:54:21,666: INFO: common: yaml file: params.yaml loaded successfully:]\n",
      "[2024-05-24 16:54:21,667: INFO: common: Directory already exists: artifacts/state:]\n",
      "[2024-05-24 16:54:21,667: INFO: 1016437350: File state comparision latency: 0.0099 seconds:]\n"
     ]
    }
   ],
   "source": [
    "start = start = time.time()\n",
    "config = ConfigurationManager()\n",
    "file_changes_config = config.get_file_changes_config()\n",
    "get_file_state = FilesState(file_changes_config)\n",
    "if not Path(file_changes_config.state_file).exists():\n",
    "        get_file_state.save_directory_state()\n",
    "get_file_state.monitor_directory()\n",
    "logger.info(f\"File state comparision latency: {(time.time() - start):.4f} seconds\")"
   ]
  },
  {
   "cell_type": "code",
   "execution_count": null,
   "metadata": {},
   "outputs": [],
   "source": []
  },
  {
   "cell_type": "markdown",
   "metadata": {},
   "source": [
    "if added files or changedfiles write to files to read, if deleted files delete from json summary edited\n",
    "\n"
   ]
  },
  {
   "cell_type": "markdown",
   "metadata": {},
   "source": []
  }
 ],
 "metadata": {
  "kernelspec": {
   "display_name": "venv",
   "language": "python",
   "name": "python3"
  },
  "language_info": {
   "codemirror_mode": {
    "name": "ipython",
    "version": 3
   },
   "file_extension": ".py",
   "mimetype": "text/x-python",
   "name": "python",
   "nbconvert_exporter": "python",
   "pygments_lexer": "ipython3",
   "version": "3.11.9"
  }
 },
 "nbformat": 4,
 "nbformat_minor": 2
}
